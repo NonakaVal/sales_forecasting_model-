import pandas as pd
import numpy as np
import matplotlib.pyplot as plt

# Sample data
data = {
    'sales': [100, 150, 200, 250, 300],
    'profit': [10, 20, 30, 40, 50],
    'expenses': [50, 60, 70, 80, 90]
}

# Creating a DataFrame
df = pd.DataFrame(data)

# Specifying the continuous columns
continuous = ['sales', 'profit', 'expenses']

# Applying log transformation
df_log_transformed = np.log1p(df[continuous])

# Plotting the original and log-transformed data
fig, axs = plt.subplots(2, 1, figsize=(10, 8))

# Original data plot
df.plot(kind='bar', ax=axs[0])
axs[0].set_title('Original Data')
axs[0].set_ylabel('Value')
axs[0].legend(loc='upper left')

# Log-transformed data plot
df_log_transformed.plot(kind='bar', ax=axs[1])
axs[1].set_title('Log-Transformed Data')
axs[1].set_ylabel('Log(1 + Value)')
axs[1].legend(loc='upper left')

plt.tight_layout()
plt.show()




