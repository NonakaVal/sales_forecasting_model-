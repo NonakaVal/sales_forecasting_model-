# importing libs and dataset
import time
import numpy as np
import pandas as pd
import seaborn as sns
import matplotlib.pyplot as plt
from sklearn.preprocessing import StandardScaler
from sklearn.preprocessing import LabelEncoder
from sklearn.model_selection import train_test_split
from sklearn.model_selection import GridSearchCV
from sklearn.metrics import precision_score, recall_score, f1_score, accuracy_score, roc_auc_score
from sklearn import svm
import sklearn
import matplotlib
import warnings
warnings.filterwarnings("ignore")
warnings.filterwarnings('ignore', category=DeprecationWarning)

df_original = pd.read_csv('dataset/online_shoppers_intention.csv')
df_original.head(3)


df_original.info()


# shape, null values and shape

shape = df_original.shape
nulls = df_original.isna().sum()
nuniq = df_original.nunique()


print(f'NULLS SUM : \n {nulls}')
print(f'NUNIQUE SUM : \n {nuniq}')
print(f'SHAPE : \n {shape}')


df_original['OperatingSystems'].unique()


df_original.columns



df = df_original.copy()

continuous = []
categorical = []

for c in df.columns[:-1]:
    if df.nunique()[c] >= 30:
        continuous.append(c)
    else:
        categorical.append(c)





# continuous
df[continuous].head(2)



# categorical
df[categorical].head(2)


# continuous variables boxplot 
df[continuous] = np.log1p(1 + df[continuous])
# Plot das variáveis contínuas

# Tamanho da área de plotagem
fig = plt.figure(figsize = (12,8))

# Loop pelas variáveis contínuas
for i,col in enumerate(continuous):
    plt.subplot(3,3,i+1);
    df.boxplot(col);
    plt.tight_layout()



# pie plot Visitor Types count
visitor_counts = df['VisitorType'].value_counts()

# Definir rótulos e cores
labels = visitor_counts.index
colors = ['#ff9999','#66b3ff','#99ff99']  # Cores distintas para cada tipo

# Plotar gráfico de pizza
fig, ax = plt.subplots(figsize=(5, 5))
ax.pie(visitor_counts, labels=labels, autopct='%.1f%%', colors=colors, startangle=250,pctdistance=1.2, labeldistance=1.4, wedgeprops={'edgecolor': 'black'})

# Adicionar título1
plt.title("Visitor Types count", fontsize=12)

# Adicionar uma legenda
#plt.legend(title='Tipo de Visitante', title_fontsize='14', fontsize='12', loc='upper right', bbox_to_anchor=(1, 1))

# Ajustar layout para melhorar a exibição
plt.tight_layout()

# Exibir o gráfico
plt.show()


# correlation matrix
plt.figure(figsize=(8, 6))


corr = df[['Administrative_Duration',
           'Informational_Duration',  
           'ProductRelated_Duration',
           'BounceRates', 
           'ExitRates', 
           'PageValues',
           'Revenue']].corr()

# Criar o heatmap com ajustes
sns.heatmap(corr, annot=True, fmt=".2f", cmap='coolwarm', vmax=1.0, vmin=-1.0, square=True, 
            linewidths=0.5, cbar_kws={'shrink': .75},
            annot_kws={"size": 8, "color": 'black'},
            mask=corr.abs() < 0.1)  # Máscara para esconder correlações pequenas

# Adicionar título e rótulos
plt.title('Continuous Variables Correlation Matrix', fontsize=14)
plt.xticks(fontsize=8, rotation=45)
plt.yticks(fontsize=8)

plt.tight_layout()  # Ajusta o layout para não cortar os rótulos
plt.show()


# visitortype and total of transactions
print(df['VisitorType'].value_counts())

# Filtrar o DataFrame para incluir apenas linhas onde VisitorType não é 'Other'
new_df = df[df['VisitorType'] != 'Other'][['VisitorType', 'Revenue']]


# Agrupar por VisitorType e Revenue para contar as ocorrências
revenue_visitor_df = df.groupby(['VisitorType', 'Revenue']).size().unstack(fill_value=0).reset_index()
revenue_visitor_df.columns = ['VisitorType', 'No Transaction (0)', 'Transaction (1)']  # Renomear colunas

# Ordenar o DataFrame pela soma total das sessões para cada VisitorType
revenue_visitor_df['Total Sessions'] = revenue_visitor_df['No Transaction (0)'] + revenue_visitor_df['Transaction (1)']
revenue_visitor_df = revenue_visitor_df.sort_values(by='Total Sessions', ascending=False).drop(columns='Total Sessions')

# Plotagem
fig, ax = plt.subplots(figsize=(16, 12))

# Plotar gráfico de barras empilhadas com uma paleta de cores mais acessível
colors = ['#1f77b4', '#ff7f0e']  # Cores para 'No Transaction' e 'Transaction'
revenue_visitor_df.plot(kind='bar', x='VisitorType', stacked=False, color=colors, ax=ax)

# Adicionar título e rótulos
plt.title('Number of Sessions by Visitor Type and Transaction Status', fontsize=18, fontweight='bold')
plt.xlabel('Visitor Type', fontsize=14)
plt.ylabel('Number of Sessions', fontsize=14)

# Adicionar rótulos de valor nas barras com anotações detalhadas
for container in ax.containers:
    for bar in container:
        height = bar.get_height()
        ax.text(bar.get_x() + bar.get_width() / 2, height + 0.02 * height, f'{height:,}', 
                ha='center', va='bottom', fontsize=14, color='black')

# Melhorar o estilo do gráfico
plt.xticks(rotation=45, ha='right', fontsize=12)  # Rotaciona os rótulos do eixo x para melhor leitura
plt.yticks(fontsize=12)  # Ajusta os rótulos do eixo y para consistência
plt.legend(title='Transaction Status', title_fontsize='16', fontsize='14', loc='upper left', bbox_to_anchor=(1, 1))  # Aumenta o tamanho da fonte da legenda e ajusta a localização
plt.grid(axis='y', linestyle='--', alpha=0.7)  # Adiciona uma grade horizontal

# Ajustar layout e margens do gráfico
plt.tight_layout()  # Ajusta automaticamente os parâmetros do gráfico para se ajustar à figura

# Exibir o gráfico
plt.show()


df['Weekend'] = df['Weekend'].astype(int)
weekend_df = df[['Weekend']].value_counts().reset_index()
weekend_df.columns = ['weekend', 'count']
weekend_df['%'] = df['Weekend'].value_counts(normalize=True).round(2)
weekend_df.plot(kind=)


import pandas as pd
import matplotlib.pyplot as plt

# Supondo que df é o seu DataFrame
df['Weekend'] = df['Weekend'].astype(int)

# Contar o número de ocorrências para cada valor de 'Weekend'
weekend_df = df[['Weekend']].value_counts().reset_index()
weekend_df.columns = ['Weekend', 'Count']

# Calcular porcentagem
weekend_df['%'] = df['Weekend'].value_counts(normalize=True).round(2).values

# Plotagem do gráfico de barras com contagem e porcentagem
fig, ax = plt.subplots(figsize=(6, 4))

bars = ax.bar(weekend_df['Weekend'].astype(str), weekend_df['Count'], color=['#1f77b4', '#ff7f0e'])

# Adicionar rótulos de porcentagem em cima das barras
for i, bar in enumerate(bars):
    height = bar.get_height()
    ax.text(bar.get_x() + bar.get_width() / 2, height + -0.3 * height, 
            f'{height} ({weekend_df["%"].iloc[i]*100:.1f}%)', 
            ha='center', va='bottom', fontsize=10, color='black' )

# Adicionar título e rótulos
plt.title('Total Weekends vs. Weekdays', fontsize=12)
plt.ylabel('Count', fontsize=8)

# Ajustar estilo do gráfico
plt.xticks(ticks=[0, 1], labels=['Weekday', 'Weekend'], fontsize=8)
plt.yticks(fontsize=8)
plt.grid(axis='y', linestyle='--', alpha=0.7)  # Adicionar grade horizontal

# Ajustar layout
plt.tight_layout()

# Exibir o gráfico
plt.show()

# Criar uma tabela cruzada para Weekend vs Revenue
crosstab = pd.crosstab(df['Weekend'], df['Revenue'])
crosstab.columns = ['No Purchase', 'Purchase']

# Plotar o gráfico de barras empilhadas
fig, ax = plt.subplots(figsize=(6, 4))

crosstab.plot(kind='bar', 
              stacked=True, 
              ax=ax, 
              color=['#FF9999', '#66B2FF'])  # Melhores escolhas de cores

# Adicionar rótulos e título
ax.set_ylabel('Number of Sessions', fontsize=8)
plt.xticks(ticks=[0, 1], labels=['Weekday', 'Weekend'], fontsize=8, rotation=20)
ax.set_title('Revenue by Weekend', fontsize=12)

# Renomear as categorias de receita para a legenda
plt.legend(title='Revenue', labels=['No Purchase', 'Purchase'], fontsize=8, title_fontsize=8)

# Adicionar rótulos de dados com porcentagens
for i, patch in enumerate(ax.patches):
    height = patch.get_height()
    if height > 0:  # Somente anotar barras com altura > 0
        total_sessions = crosstab.iloc[i // 2].sum()  # Total de sessões para o valor de Weekend
        percentage = height / total_sessions * 100
        ax.annotate(f'{height}\n({percentage:.1f}%)', 
                    xy=(patch.get_x() + patch.get_width() / -5, height), 
                    xytext=(0, 5), 
                    textcoords='offset points', 
                    ha='center', 
                    va='bottom', 
                    fontsize=10)

# Mostrar o gráfico
plt.tight_layout()  # Ajustar layout para evitar cortes
plt.show()



# Sort the DataFrame by 'count' in ascending order
os_df_sorted = os_df.sort_values(by='count', ascending=True)

plt.figure(figsize=(12, 8))
barplot = sns.barplot(x='OperatingSystems', y='count', data=os_df_sorted, palette='viridis')

# Improve aesthetics
plt.xlabel('Operating Systems', fontsize=14)
plt.ylabel('Count', fontsize=14)
plt.title('Distribution of Operating Systems', fontsize=16)
plt.xticks(rotation=45, ha='right', fontsize=12)
plt.yticks(fontsize=12)
plt.grid(axis='y', linestyle='--', alpha=0.7)  # Add grid lines for better readability

# Add value labels on top of bars
for p in barplot.patches:
    barplot.annotate(format(p.get_height(), '.0f'), 
                     (p.get_x() + p.get_width() / 2., p.get_height()), 
                     ha='center', va='center', 
                     xytext=(0, 9), 
                     textcoords='offset points',
                     fontsize=10)

# Display the plot
plt.tight_layout()  # Adjust layout to fit everything neatly
plt.show()


contingency_table = pd.crosstab(df['OperatingSystems'], df['Revenue'])

# Create the horizontal stacked bar chart
fig, ax = plt.subplots(figsize=(10, 4))
contingency_table.plot(kind='barh', 
                      stacked=True, 
                      color=['#ff9999', '#66b3ff'],
                      edgecolor='black', 
                      ax=ax)

# Add title and labels
ax.set_title('Transaction Distribution by Operating System Type', fontsize=12)
ax.set_xlabel('Revenue', fontsize=8)
ax.set_ylabel('Operating System Type', fontsize=8)



# Display the plot
plt.tight_layout()
plt.show()



# Assuming df is your DataFrame and you have already created TrafficType_df
TrafficType_df = df[['TrafficType']].value_counts().reset_index()
TrafficType_df.columns = ['TrafficType', 'count']

# Choose a color palette from Seaborn
palette = sns.color_palette("husl", len(TrafficType_df))  # You can choose from palettes like 'husl', 'pastel', 'dark', etc.

# Create the bar plot with the Seaborn palette
fig, ax = plt.subplots(figsize=(8, 5))
bars = ax.bar(TrafficType_df['TrafficType'].astype(str), TrafficType_df['count'], color=palette, edgecolor='black')

# Add title and labels
ax.set_title('Distribution of Traffic Types', fontsize=12)
ax.set_xlabel('Traffic Type', fontsize=10)
ax.set_ylabel('Count', fontsize=10)
ax.set_xticklabels(TrafficType_df['TrafficType'].astype(str), rotation=45, ha='right', fontsize=12)

# Display the plot
plt.tight_layout()
plt.show()


# Stacked Bar Tipos de Tráfego x Revenue
pd.crosstab(df['TrafficType'], df['Revenue']).plot(kind = 'bar', 
                                                   stacked = True, 
                                                   figsize = (15, 5), 
                                                   color = ['red', 'green'])
plt.show()


# Cria o encoder
lb = LabelEncoder()

# Aplica o encoder nas variáveis que estão com string
df_original['Month'] = lb.fit_transform(df_original['Month'])
df_original['VisitorType'] = lb.fit_transform(df_original['VisitorType'])

# Remove valores missing eventualmente gerados
df_original.dropna(inplace = True)














TrafficType_df_sorted = os_df.sort_values(by='count', ascending=True)


# Supondo que df seja o seu DataFrame
# Gerar uma tabela de contingência
contingency_table = pd.crosstab(df['OperatingSystems'], df['Revenue'])

# Criar o gráfico de barras empilhadas
ax = contingency_table.plot(kind='bar', 
                            stacked=True, 
                            figsize=(15, 7), 
                            color=['#ff9999', '#66b3ff'],
                            edgecolor='black')

# Adicionar rótulos e título
plt.title('Distribuição de Transações por Tipo de Sistema Operacional', fontsize=16)
plt.xlabel('Tipo de Sistema Operacional', fontsize=14)
plt.ylabel('Número de Sessões', fontsize=14)
plt.xticks(rotation=45)
plt.legend(title='Revenue', title_fontsize='13', fontsize='11')

# Adicionar rótulos de valor em cada barra
for container in ax.containers:
    ax.bar_label(container, fmt='%d', label_type='center', fontsize=10, color='black')

# Exibir o gráfico
plt.tight_layout()
plt.show()
